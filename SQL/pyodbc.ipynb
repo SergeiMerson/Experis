{
 "cells": [
  {
   "cell_type": "markdown",
   "metadata": {},
   "source": [
    "# Exercise 1"
   ]
  },
  {
   "cell_type": "code",
   "execution_count": 1,
   "metadata": {},
   "outputs": [],
   "source": [
    "import pyodbc\n",
    "\n",
    "\n",
    "def get_products(category_name):\n",
    "    \n",
    "    conn_string = \"\"\"Driver=ODBC Driver 17 for SQL Server;\n",
    "                  Server=.\\LENOVOSQLEXPRESS;\n",
    "                  Database=Northwind;\n",
    "                  Trusted_Connection=yes;\"\"\"\n",
    "    \n",
    "    conn = pyodbc.connect(conn_string, autocommit=True)\n",
    "    \n",
    "    cursor = conn.cursor()\n",
    "    \n",
    "    products = cursor.execute(\"\"\"\n",
    "                              SELECT  p.ProductName, p.UnitPrice\n",
    "                                FROM  Products AS p\n",
    "                                JOIN  Categories AS c\n",
    "                                  ON  p.CategoryID = c.CategoryID\n",
    "                               WHERE  c.CategoryName = '{}'\n",
    "                           \"\"\".format(category_name))\n",
    "    for prod, price in products:\n",
    "        print(f\"Product: {prod.ljust(30, '_')} Price: {float(price)}\")\n",
    "    \n",
    "    conn.close()"
   ]
  },
  {
   "cell_type": "code",
   "execution_count": 4,
   "metadata": {},
   "outputs": [
    {
     "name": "stdout",
     "output_type": "stream",
     "text": [
      "Product: Chai__________________________ Price: 18.0\n",
      "Product: Chang_________________________ Price: 19.0\n",
      "Product: Guarana Fantastica____________ Price: 4.5\n",
      "Product: Sasquatch Ale_________________ Price: 14.0\n",
      "Product: Steeleye Stout________________ Price: 18.0\n",
      "Product: Cote de Blaye_________________ Price: 263.5\n",
      "Product: Chartreuse verte______________ Price: 18.0\n",
      "Product: Ipoh Coffee___________________ Price: 46.0\n",
      "Product: Laughing Lumberjack Lager_____ Price: 14.0\n",
      "Product: Outback Lager_________________ Price: 15.0\n",
      "Product: Rhonbrau Klosterbier__________ Price: 7.75\n",
      "Product: Lakkalikoori__________________ Price: 18.0\n"
     ]
    }
   ],
   "source": [
    "get_products('Beverages')"
   ]
  },
  {
   "cell_type": "markdown",
   "metadata": {},
   "source": [
    "# Exercise 2"
   ]
  },
  {
   "cell_type": "code",
   "execution_count": 8,
   "metadata": {},
   "outputs": [],
   "source": [
    "def get_employees():\n",
    "    country = input('Enter country: ')\n",
    "    hire_date = input('Enter hire date: ')\n",
    "    \n",
    "    conn_string = \"\"\"Driver=ODBC Driver 17 for SQL Server;\n",
    "                  Server=.\\LENOVOSQLEXPRESS;\n",
    "                  Database=Northwind;\n",
    "                  Trusted_Connection=yes;\"\"\"\n",
    "    \n",
    "    conn = pyodbc.connect(conn_string, autocommit=True)\n",
    "    \n",
    "    cursor = conn.cursor()\n",
    "    \n",
    "    SQL_statement = \"\"\"\n",
    "                       SELECT  FirstName, LastName, Country, HireDate\n",
    "                         FROM  Employees\n",
    "                        WHERE  Country = ?\n",
    "                          AND  HireDate > ?\n",
    "                    \"\"\"\n",
    "    \n",
    "    products = cursor.execute(SQL_statement, country, hire_date)\n",
    "    for line in products:\n",
    "        print(line)\n",
    "    \n",
    "    conn.close()"
   ]
  },
  {
   "cell_type": "code",
   "execution_count": 9,
   "metadata": {},
   "outputs": [
    {
     "name": "stdout",
     "output_type": "stream",
     "text": [
      "Enter country: USA\n",
      "Enter hire date: 1990-1-1\n",
      "('Nancy', 'Davolio', 'USA', datetime.datetime(1992, 5, 1, 0, 0))\n",
      "('Andrew', 'Fuller', 'USA', datetime.datetime(1992, 8, 14, 0, 0))\n",
      "('Janet', 'Leverling', 'USA', datetime.datetime(1992, 4, 1, 0, 0))\n",
      "('Margaret', 'Peacock', 'USA', datetime.datetime(1993, 5, 3, 0, 0))\n",
      "('Laura', 'Callahan', 'USA', datetime.datetime(1994, 3, 5, 0, 0))\n"
     ]
    }
   ],
   "source": [
    "get_employees()"
   ]
  },
  {
   "cell_type": "markdown",
   "metadata": {},
   "source": [
    "# Exercise 4"
   ]
  },
  {
   "cell_type": "code",
   "execution_count": 3,
   "metadata": {},
   "outputs": [],
   "source": [
    "import pandas as pd\n",
    "import pyodbc\n",
    "import matplotlib.pyplot as plt\n",
    "from datetime import datetime as dt"
   ]
  },
  {
   "cell_type": "code",
   "execution_count": 4,
   "metadata": {
    "scrolled": true
   },
   "outputs": [
    {
     "name": "stdout",
     "output_type": "stream",
     "text": [
      "Employee ID: 2\n"
     ]
    },
    {
     "data": {
      "image/png": "[encoded data removed]",
      "text/plain": [
       "<Figure size 1152x504 with 1 Axes>"
      ]
     },
     "metadata": {
      "needs_background": "light"
     },
     "output_type": "display_data"
    }
   ],
   "source": [
    "conn_string = \"\"\"Driver=ODBC Driver 17 for SQL Server;\n",
    "              Server=.\\LENOVOSQLEXPRESS;\n",
    "              Database=Northwind;\n",
    "              Trusted_Connection=yes;\"\"\"\n",
    "\n",
    "conn = pyodbc.connect(conn_string)\n",
    "\n",
    "SQL_statement = \"\"\"\n",
    "                SELECT  DATEFROMPARTS(YEAR(o.OrderDate), MONTH(o.OrderDate), 1) AS Date,\n",
    "                        SUM((od.UnitPrice * od.Quantity) * (1 - od.Discount)) AS MonthlySale\n",
    "                  FROM  Orders AS o\n",
    "                  JOIN  [Order Details] AS od\n",
    "                    ON  o.OrderID = od.OrderID\n",
    "                 WHERE  o.EmployeeID = ?\n",
    "              GROUP BY  DATEFROMPARTS(YEAR(o.OrderDate), MONTH(o.OrderDate), 1)\n",
    "              ORDER BY  Date;\n",
    "                \n",
    "                \"\"\"\n",
    "employee_id = int(input('Employee ID: '))\n",
    "\n",
    "df = pd.read_sql(SQL_statement, conn, params=[employee_id], index_col='Date')\n",
    "\n",
    "ax = df.plot(kind='bar', y='MonthlySale', figsize=(16,7))\n",
    "ax.set_xticklabels([date.strftime(\"%Y-%m\") for date in df.index])\n",
    "\n",
    "ax.grid(axis='y', ls='--')\n",
    "\n",
    "ax.set_title(f\"Sales of Employee {employee_id}\")\n",
    "plt.show()"
   ]
  },
  {
   "cell_type": "code",
   "execution_count": null,
   "metadata": {},
   "outputs": [],
   "source": []
  }
 ],
 "metadata": {
  "kernelspec": {
   "display_name": "Python 3",
   "language": "python",
   "name": "python3"
  },
  "language_info": {
   "codemirror_mode": {
    "name": "ipython",
    "version": 3
   },
   "file_extension": ".py",
   "mimetype": "text/x-python",
   "name": "python",
   "nbconvert_exporter": "python",
   "pygments_lexer": "ipython3",
   "version": "3.7.3"
  }
 },
 "nbformat": 4,
 "nbformat_minor": 2
}
