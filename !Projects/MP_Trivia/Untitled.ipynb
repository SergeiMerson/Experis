{
 "cells": [
  {
   "cell_type": "code",
   "execution_count": 1,
   "metadata": {},
   "outputs": [],
   "source": [
    "import pandas as pd"
   ]
  },
  {
   "cell_type": "code",
   "execution_count": 2,
   "metadata": {},
   "outputs": [],
   "source": [
    "from game import Game"
   ]
  },
  {
   "cell_type": "code",
   "execution_count": 3,
   "metadata": {},
   "outputs": [
    {
     "name": "stdout",
     "output_type": "stream",
     "text": [
      "Choose existing player or create a new one:\n",
      "1.\tCreate a new player\n",
      "2.\tSergei\n",
      "3.\tGal\n"
     ]
    },
    {
     "name": "stdin",
     "output_type": "stream",
     "text": [
      ">->-> 3\n"
     ]
    }
   ],
   "source": [
    "test_game = Game()"
   ]
  },
  {
   "cell_type": "code",
   "execution_count": 4,
   "metadata": {},
   "outputs": [
    {
     "data": {
      "text/plain": [
       "'Gal'"
      ]
     },
     "execution_count": 4,
     "metadata": {},
     "output_type": "execute_result"
    }
   ],
   "source": [
    "test_game.user.name"
   ]
  },
  {
   "cell_type": "code",
   "execution_count": 5,
   "metadata": {},
   "outputs": [
    {
     "name": "stdout",
     "output_type": "stream",
     "text": [
      "Enter number of questions: 10\n",
      "\n",
      " Categories: \n",
      "\n",
      "0:\tANY\n",
      "1:\tAnimals\n",
      "2:\tArt\n",
      "3:\tCelebrities\n",
      "4:\tEntertainment: Board Games\n",
      "5:\tEntertainment: Books\n",
      "6:\tEntertainment: Cartoon & Animations\n",
      "7:\tEntertainment: Comics\n",
      "8:\tEntertainment: Film\n",
      "9:\tEntertainment: Japanese Anime & Manga\n",
      "10:\tEntertainment: Music\n",
      "11:\tEntertainment: Musicals & Theatres\n",
      "12:\tEntertainment: Television\n",
      "13:\tEntertainment: Video Games\n",
      "14:\tGeneral Knowledge\n",
      "15:\tGeography\n",
      "16:\tHistory\n",
      "17:\tMythology\n",
      "18:\tPolitics\n",
      "19:\tScience & Nature\n",
      "20:\tScience: Computers\n",
      "21:\tScience: Gadgets\n",
      "22:\tScience: Mathematics\n",
      "23:\tSports\n",
      "24:\tVehicles\n",
      "Please choose your option: 0\n",
      "\n",
      " Difficulty: \n",
      "\n",
      "0:\tANY\n",
      "1:\tEasy\n",
      "2:\tHard\n",
      "3:\tMedium\n",
      "Please choose your option: 3\n",
      "\n",
      " Type: \n",
      "\n",
      "0:\tANY\n",
      "1:\tMultiple Choice\n",
      "2:\tTrue/False\n",
      "Please choose your option: 2\n",
      "\n",
      "\n",
      "\n",
      "Question 1:\t\n",
      "The common software-programming acronym \"I18N\" comes from the term \"Interlocalization\".\n",
      "Possible answers:\n",
      "1:\tFalse\n",
      "2:\tTrue\n",
      ">->-> 2\n",
      "\n",
      "\n",
      "Question 2:\t\n",
      "Tennis was once known as Racquetball.\n",
      "Possible answers:\n",
      "1:\tFalse\n",
      "2:\tTrue\n",
      ">->-> 1\n",
      "\n",
      "\n",
      "Question 3:\t\n",
      "According to Norse mythology, Loki is a mother.\n",
      "Possible answers:\n",
      "1:\tFalse\n",
      "2:\tTrue\n",
      ">->-> 1\n",
      "\n",
      "\n",
      "Question 4:\t\n",
      "George W. Bush lost the popular vote in the 2004 United States presidential election.\n",
      "Possible answers:\n",
      "1:\tFalse\n",
      "2:\tTrue\n",
      ">->-> 2\n",
      "\n",
      "\n",
      "Question 5:\t\n",
      "Klingons respect their disabled comrades, and those who are old, injuried, and helpless.\n",
      "Possible answers:\n",
      "1:\tFalse\n",
      "2:\tTrue\n",
      ">->-> 1\n",
      "\n",
      "\n",
      "Question 6:\t\n",
      "Klingons once had a period of Democracy in their history, they referred to it as the \"Dark Times\".\n",
      "Possible answers:\n",
      "1:\tFalse\n",
      "2:\tTrue\n",
      ">->-> 2\n",
      "\n",
      "\n",
      "Question 7:\t\n",
      "Linus Sebastian is the creator of the Linux kernel, which went on to be used in Linux, Android, and Chrome OS.\n",
      "Possible answers:\n",
      "1:\tFalse\n",
      "2:\tTrue\n",
      ">->-> 1\n",
      "\n",
      "\n",
      "Question 8:\t\n",
      "Finnish Lapphund dogs were used for herding reindeer.\n",
      "Possible answers:\n",
      "1:\tFalse\n",
      "2:\tTrue\n",
      ">->-> 2\n",
      "\n",
      "\n",
      "Question 9:\t\n",
      "In \"Star Trek: The Next Generation\", Data is the only android in existence.\n",
      "Possible answers:\n",
      "1:\tFalse\n",
      "2:\tTrue\n",
      ">->-> 1\n",
      "\n",
      "\n",
      "Question 10:\t\n",
      "Sir Issac Newton served as a Member of Parliament, but the only recorded time he spoke was to complain about a draft in the chambers.\n",
      "Possible answers:\n",
      "1:\tFalse\n",
      "2:\tTrue\n",
      ">->-> 2\n",
      "\n",
      "\n",
      "Your results:\n",
      "----------------------------------------\n",
      "                          medium\n",
      "question category               \n",
      "Animals                      1/1\n",
      "Entertainment: Television    3/3\n",
      "History                      1/1\n",
      "Mythology                    0/1\n",
      "Politics                     0/1\n",
      "Science: Computers           1/2\n",
      "Sports                       1/1\n",
      "\n",
      "Total result:\t7/10\n"
     ]
    }
   ],
   "source": [
    "test_game.play()"
   ]
  },
  {
   "cell_type": "code",
   "execution_count": 5,
   "metadata": {},
   "outputs": [
    {
     "name": "stdout",
     "output_type": "stream",
     "text": [
      "Your results:\n",
      "------------------------------------------------------------\n",
      "                                      easy\n",
      "question category                         \n",
      "Entertainment: Japanese Anime & Manga  0/1\n",
      "Entertainment: Music                   0/1\n",
      "Entertainment: Television              0/1\n",
      "Entertainment: Video Games             1/2\n",
      "Geography                              0/3\n",
      "Mythology                              1/1\n",
      "Science: Computers                     1/1\n",
      "\n",
      "Total result:\t3/10\n"
     ]
    },
    {
     "data": {
      "text/html": [
       "<div>\n",
       "<style scoped>\n",
       "    .dataframe tbody tr th:only-of-type {\n",
       "        vertical-align: middle;\n",
       "    }\n",
       "\n",
       "    .dataframe tbody tr th {\n",
       "        vertical-align: top;\n",
       "    }\n",
       "\n",
       "    .dataframe thead th {\n",
       "        text-align: right;\n",
       "    }\n",
       "</style>\n",
       "<table border=\"1\" class=\"dataframe\">\n",
       "  <thead>\n",
       "    <tr style=\"text-align: right;\">\n",
       "      <th></th>\n",
       "      <th>category</th>\n",
       "      <th>difficulty</th>\n",
       "      <th>player</th>\n",
       "      <th>total</th>\n",
       "      <th>correct</th>\n",
       "    </tr>\n",
       "  </thead>\n",
       "  <tbody>\n",
       "    <tr>\n",
       "      <th>0</th>\n",
       "      <td>Entertainment: Japanese Anime &amp; Manga</td>\n",
       "      <td>easy</td>\n",
       "      <td>Gal</td>\n",
       "      <td>1</td>\n",
       "      <td>0</td>\n",
       "    </tr>\n",
       "    <tr>\n",
       "      <th>1</th>\n",
       "      <td>Entertainment: Music</td>\n",
       "      <td>easy</td>\n",
       "      <td>Gal</td>\n",
       "      <td>1</td>\n",
       "      <td>0</td>\n",
       "    </tr>\n",
       "    <tr>\n",
       "      <th>2</th>\n",
       "      <td>Entertainment: Television</td>\n",
       "      <td>easy</td>\n",
       "      <td>Gal</td>\n",
       "      <td>1</td>\n",
       "      <td>0</td>\n",
       "    </tr>\n",
       "    <tr>\n",
       "      <th>3</th>\n",
       "      <td>Entertainment: Video Games</td>\n",
       "      <td>easy</td>\n",
       "      <td>Gal</td>\n",
       "      <td>2</td>\n",
       "      <td>1</td>\n",
       "    </tr>\n",
       "    <tr>\n",
       "      <th>4</th>\n",
       "      <td>Geography</td>\n",
       "      <td>easy</td>\n",
       "      <td>Gal</td>\n",
       "      <td>3</td>\n",
       "      <td>0</td>\n",
       "    </tr>\n",
       "    <tr>\n",
       "      <th>5</th>\n",
       "      <td>Mythology</td>\n",
       "      <td>easy</td>\n",
       "      <td>Gal</td>\n",
       "      <td>1</td>\n",
       "      <td>1</td>\n",
       "    </tr>\n",
       "    <tr>\n",
       "      <th>6</th>\n",
       "      <td>Science: Computers</td>\n",
       "      <td>easy</td>\n",
       "      <td>Gal</td>\n",
       "      <td>1</td>\n",
       "      <td>1</td>\n",
       "    </tr>\n",
       "  </tbody>\n",
       "</table>\n",
       "</div>"
      ],
      "text/plain": [
       "                                category difficulty player  total  correct\n",
       "0  Entertainment: Japanese Anime & Manga       easy    Gal      1        0\n",
       "1                   Entertainment: Music       easy    Gal      1        0\n",
       "2              Entertainment: Television       easy    Gal      1        0\n",
       "3             Entertainment: Video Games       easy    Gal      2        1\n",
       "4                              Geography       easy    Gal      3        0\n",
       "5                              Mythology       easy    Gal      1        1\n",
       "6                     Science: Computers       easy    Gal      1        1"
      ]
     },
     "execution_count": 5,
     "metadata": {},
     "output_type": "execute_result"
    }
   ],
   "source": [
    "test_game.user.get_statistics(last_game=False, print_result=True, return_df=True)"
   ]
  },
  {
   "cell_type": "code",
   "execution_count": 7,
   "metadata": {},
   "outputs": [
    {
     "name": "stdout",
     "output_type": "stream",
     "text": [
      "+---------------------------------------+--------------+----------+---------+-----------+---------+\n",
      "| category                              | difficulty   | player   |   total |   correct |   ratio |\n",
      "|---------------------------------------+--------------+----------+---------+-----------+---------|\n",
      "| Sports                                | medium       | Sergei   |       1 |         1 |     1   |\n",
      "| Science: Computers                    | medium       | Sergei   |       2 |         1 |     0.5 |\n",
      "| Science: Computers                    | easy         | Gal      |       1 |         1 |     1   |\n",
      "| Science & Nature                      | easy         | Sergei   |       1 |         1 |     1   |\n",
      "| Politics                              | medium       | Sergei   |       1 |         0 |     0   |\n",
      "| Mythology                             | medium       | Sergei   |       1 |         0 |     0   |\n",
      "| Mythology                             | easy         | Gal      |       1 |         1 |     1   |\n",
      "| Mythology                             | easy         | Sergei   |       1 |         1 |     1   |\n",
      "| History                               | medium       | Sergei   |       1 |         1 |     1   |\n",
      "| History                               | easy         | Sergei   |       1 |         1 |     1   |\n",
      "| Geography                             | easy         | Sergei   |       2 |         1 |     0.5 |\n",
      "| Geography                             | easy         | Gal      |       3 |         0 |     0   |\n",
      "| Entertainment: Video Games            | easy         | Sergei   |       2 |         2 |     1   |\n",
      "| Entertainment: Video Games            | easy         | Gal      |       2 |         1 |     0.5 |\n",
      "| Entertainment: Television             | medium       | Sergei   |       3 |         3 |     1   |\n",
      "| Entertainment: Television             | easy         | Gal      |       1 |         0 |     0   |\n",
      "| Entertainment: Music                  | easy         | Gal      |       1 |         0 |     0   |\n",
      "| Entertainment: Music                  | easy         | Sergei   |       1 |         0 |     0   |\n",
      "| Entertainment: Japanese Anime & Manga | easy         | Sergei   |       1 |         1 |     1   |\n",
      "| Entertainment: Japanese Anime & Manga | easy         | Gal      |       1 |         0 |     0   |\n",
      "| Celebrities                           | easy         | Sergei   |       1 |         0 |     0   |\n",
      "| Animals                               | medium       | Sergei   |       1 |         1 |     1   |\n",
      "+---------------------------------------+--------------+----------+---------+-----------+---------+\n"
     ]
    }
   ],
   "source": [
    "test_game.get_total_statistics(show_category=True ,show_difficulty=True)"
   ]
  },
  {
   "cell_type": "code",
   "execution_count": null,
   "metadata": {},
   "outputs": [],
   "source": []
  }
 ],
 "metadata": {
  "kernelspec": {
   "display_name": "Python 3",
   "language": "python",
   "name": "python3"
  },
  "language_info": {
   "codemirror_mode": {
    "name": "ipython",
    "version": 3
   },
   "file_extension": ".py",
   "mimetype": "text/x-python",
   "name": "python",
   "nbconvert_exporter": "python",
   "pygments_lexer": "ipython3",
   "version": "3.7.4"
  }
 },
 "nbformat": 4,
 "nbformat_minor": 4
}
