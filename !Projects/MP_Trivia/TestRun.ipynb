{
 "cells": [
  {
   "cell_type": "code",
   "execution_count": 1,
   "metadata": {},
   "outputs": [],
   "source": [
    "import pandas as pd"
   ]
  },
  {
   "cell_type": "code",
   "execution_count": 2,
   "metadata": {},
   "outputs": [],
   "source": [
    "from game import Game"
   ]
  },
  {
   "cell_type": "code",
   "execution_count": 3,
   "metadata": {},
   "outputs": [
    {
     "name": "stdout",
     "output_type": "stream",
     "text": [
      "Choose existing player or create a new one:\n",
      "1.\tCreate a new player\n",
      "2.\tSergei\n",
      "3.\tGal\n"
     ]
    },
    {
     "name": "stdin",
     "output_type": "stream",
     "text": [
      ">->-> 2\n"
     ]
    }
   ],
   "source": [
    "test_game = Game()"
   ]
  },
  {
   "cell_type": "code",
   "execution_count": 60,
   "metadata": {},
   "outputs": [
    {
     "data": {
      "text/plain": [
       "'Sergei'"
      ]
     },
     "execution_count": 60,
     "metadata": {},
     "output_type": "execute_result"
    }
   ],
   "source": [
    "test_game.user.name"
   ]
  },
  {
   "cell_type": "code",
   "execution_count": 61,
   "metadata": {},
   "outputs": [
    {
     "name": "stdin",
     "output_type": "stream",
     "text": [
      "Enter number of questions:  20\n"
     ]
    },
    {
     "name": "stdout",
     "output_type": "stream",
     "text": [
      "\n",
      " Categories: \n",
      "\n",
      "0:\tANY\n",
      "1:\tAnimals\n",
      "2:\tArt\n",
      "3:\tCelebrities\n",
      "4:\tEntertainment: Board Games\n",
      "5:\tEntertainment: Books\n",
      "6:\tEntertainment: Cartoon & Animations\n",
      "7:\tEntertainment: Comics\n",
      "8:\tEntertainment: Film\n",
      "9:\tEntertainment: Japanese Anime & Manga\n",
      "10:\tEntertainment: Music\n",
      "11:\tEntertainment: Musicals & Theatres\n",
      "12:\tEntertainment: Television\n",
      "13:\tEntertainment: Video Games\n",
      "14:\tGeneral Knowledge\n",
      "15:\tGeography\n",
      "16:\tHistory\n",
      "17:\tMythology\n",
      "18:\tPolitics\n",
      "19:\tScience & Nature\n",
      "20:\tScience: Computers\n",
      "21:\tScience: Gadgets\n",
      "22:\tScience: Mathematics\n",
      "23:\tSports\n",
      "24:\tVehicles\n"
     ]
    },
    {
     "name": "stdin",
     "output_type": "stream",
     "text": [
      "Please choose your option:  0\n"
     ]
    },
    {
     "name": "stdout",
     "output_type": "stream",
     "text": [
      "\n",
      " Difficulty: \n",
      "\n",
      "0:\tANY\n",
      "1:\tEasy\n",
      "2:\tHard\n",
      "3:\tMedium\n"
     ]
    },
    {
     "name": "stdin",
     "output_type": "stream",
     "text": [
      "Please choose your option:  0\n"
     ]
    },
    {
     "name": "stdout",
     "output_type": "stream",
     "text": [
      "\n",
      " Type: \n",
      "\n",
      "0:\tANY\n",
      "1:\tMultiple Choice\n",
      "2:\tTrue/False\n"
     ]
    },
    {
     "name": "stdin",
     "output_type": "stream",
     "text": [
      "Please choose your option:  2\n"
     ]
    },
    {
     "name": "stdout",
     "output_type": "stream",
     "text": [
      "\n",
      "\n",
      "\n",
      "Question 1:\t\n",
      "The first computer bug was formed by faulty wires.\n",
      "Possible answers:\n",
      "1:\tFalse\n",
      "2:\tTrue\n"
     ]
    },
    {
     "name": "stdin",
     "output_type": "stream",
     "text": [
      ">->->  1\n"
     ]
    },
    {
     "name": "stdout",
     "output_type": "stream",
     "text": [
      "\n",
      "\n",
      "Question 2:\t\n",
      "The music video to The Buggle's \"Video Killed the Radio Star\" was the first music video to broadcast on MTV.\n",
      "Possible answers:\n",
      "1:\tFalse\n",
      "2:\tTrue\n"
     ]
    },
    {
     "name": "stdin",
     "output_type": "stream",
     "text": [
      ">->->  2\n"
     ]
    },
    {
     "name": "stdout",
     "output_type": "stream",
     "text": [
      "\n",
      "\n",
      "Question 3:\t\n",
      "There aren't any live-action clones in \"Star Wars: Episode III - Revenge of the Sith\".\n",
      "Possible answers:\n",
      "1:\tFalse\n",
      "2:\tTrue\n"
     ]
    },
    {
     "name": "stdin",
     "output_type": "stream",
     "text": [
      ">->->  1\n"
     ]
    },
    {
     "name": "stdout",
     "output_type": "stream",
     "text": [
      "\n",
      "\n",
      "Question 4:\t\n",
      "The vapor produced by e-cigarettes is actually water.\n",
      "Possible answers:\n",
      "1:\tFalse\n",
      "2:\tTrue\n"
     ]
    },
    {
     "name": "stdin",
     "output_type": "stream",
     "text": [
      ">->->  1\n"
     ]
    },
    {
     "name": "stdout",
     "output_type": "stream",
     "text": [
      "\n",
      "\n",
      "Question 5:\t\n",
      "The book 1984 was published in 1949.\n",
      "Possible answers:\n",
      "1:\tFalse\n",
      "2:\tTrue\n"
     ]
    },
    {
     "name": "stdin",
     "output_type": "stream",
     "text": [
      ">->->  2\n"
     ]
    },
    {
     "name": "stdout",
     "output_type": "stream",
     "text": [
      "\n",
      "\n",
      "Question 6:\t\n",
      "Brezhnev was the 5th leader of the USSR.\n",
      "Possible answers:\n",
      "1:\tFalse\n",
      "2:\tTrue\n"
     ]
    },
    {
     "name": "stdin",
     "output_type": "stream",
     "text": [
      ">->->  1\n"
     ]
    },
    {
     "name": "stdout",
     "output_type": "stream",
     "text": [
      "\n",
      "\n",
      "Question 7:\t\n",
      "The first \"Metal Gear\" game was released for the PlayStation 1.\n",
      "Possible answers:\n",
      "1:\tFalse\n",
      "2:\tTrue\n"
     ]
    },
    {
     "name": "stdin",
     "output_type": "stream",
     "text": [
      ">->->  2\n"
     ]
    },
    {
     "name": "stdout",
     "output_type": "stream",
     "text": [
      "\n",
      "\n",
      "Question 8:\t\n",
      "You are allowed to sell your soul on eBay.\n",
      "Possible answers:\n",
      "1:\tFalse\n",
      "2:\tTrue\n"
     ]
    },
    {
     "name": "stdin",
     "output_type": "stream",
     "text": [
      ">->->  2\n"
     ]
    },
    {
     "name": "stdout",
     "output_type": "stream",
     "text": [
      "\n",
      "\n",
      "Question 9:\t\n",
      "Tennis was once known as Racquetball.\n",
      "Possible answers:\n",
      "1:\tFalse\n",
      "2:\tTrue\n"
     ]
    },
    {
     "name": "stdin",
     "output_type": "stream",
     "text": [
      ">->->  2\n"
     ]
    },
    {
     "name": "stdout",
     "output_type": "stream",
     "text": [
      "\n",
      "\n",
      "Question 10:\t\n",
      "The Sun rises from the North.\n",
      "Possible answers:\n",
      "1:\tFalse\n",
      "2:\tTrue\n"
     ]
    },
    {
     "name": "stdin",
     "output_type": "stream",
     "text": [
      ">->->  1\n"
     ]
    },
    {
     "name": "stdout",
     "output_type": "stream",
     "text": [
      "\n",
      "\n",
      "Question 11:\t\n",
      "The French word to travel is \"Travail\"\n",
      "Possible answers:\n",
      "1:\tFalse\n",
      "2:\tTrue\n"
     ]
    },
    {
     "name": "stdin",
     "output_type": "stream",
     "text": [
      ">->->  2\n"
     ]
    },
    {
     "name": "stdout",
     "output_type": "stream",
     "text": [
      "\n",
      "\n",
      "Question 12:\t\n",
      "The Western Electric Model 500 telephone uses tone dialing to dial phone numbers.\n",
      "Possible answers:\n",
      "1:\tFalse\n",
      "2:\tTrue\n"
     ]
    },
    {
     "name": "stdin",
     "output_type": "stream",
     "text": [
      ">->->  2\n"
     ]
    },
    {
     "name": "stdout",
     "output_type": "stream",
     "text": [
      "\n",
      "\n",
      "Question 13:\t\n",
      "The French word for \"glass\" is \"glace\".\n",
      "Possible answers:\n",
      "1:\tFalse\n",
      "2:\tTrue\n"
     ]
    },
    {
     "name": "stdin",
     "output_type": "stream",
     "text": [
      ">->->  1\n"
     ]
    },
    {
     "name": "stdout",
     "output_type": "stream",
     "text": [
      "\n",
      "\n",
      "Question 14:\t\n",
      "\"Cube\", \"Cube 2: Hypercube\" and \"Cube Zero\" were directed by the same person.\n",
      "Possible answers:\n",
      "1:\tFalse\n",
      "2:\tTrue\n"
     ]
    },
    {
     "name": "stdin",
     "output_type": "stream",
     "text": [
      ">->->  2\n"
     ]
    },
    {
     "name": "stdout",
     "output_type": "stream",
     "text": [
      "\n",
      "\n",
      "Question 15:\t\n",
      "Fast food restaurant chains Carl's Jr. and Hardee's are owned by the same company.\n",
      "Possible answers:\n",
      "1:\tFalse\n",
      "2:\tTrue\n"
     ]
    },
    {
     "name": "stdin",
     "output_type": "stream",
     "text": [
      ">->->  1\n"
     ]
    },
    {
     "name": "stdout",
     "output_type": "stream",
     "text": [
      "\n",
      "\n",
      "Question 16:\t\n",
      "Actor Tommy Chong served prison time.\n",
      "Possible answers:\n",
      "1:\tFalse\n",
      "2:\tTrue\n"
     ]
    },
    {
     "name": "stdin",
     "output_type": "stream",
     "text": [
      ">->->  2\n"
     ]
    },
    {
     "name": "stdout",
     "output_type": "stream",
     "text": [
      "\n",
      "\n",
      "Question 17:\t\n",
      "The ghosts in \"Pac-Man\" and \"Ms. Pac-Man\" have completely different behavior.\n",
      "Possible answers:\n",
      "1:\tFalse\n",
      "2:\tTrue\n"
     ]
    },
    {
     "name": "stdin",
     "output_type": "stream",
     "text": [
      ">->->  2\n"
     ]
    },
    {
     "name": "stdout",
     "output_type": "stream",
     "text": [
      "\n",
      "\n",
      "Question 18:\t\n",
      "Thomas Crapper was a plumber who invented the flushing toilet.\n",
      "Possible answers:\n",
      "1:\tFalse\n",
      "2:\tTrue\n"
     ]
    },
    {
     "name": "stdin",
     "output_type": "stream",
     "text": [
      ">->->  2\n"
     ]
    },
    {
     "name": "stdout",
     "output_type": "stream",
     "text": [
      "\n",
      "\n",
      "Question 19:\t\n",
      "An isosceles triangle has two sides of equal length as opposed to three.\n",
      "Possible answers:\n",
      "1:\tFalse\n",
      "2:\tTrue\n"
     ]
    },
    {
     "name": "stdin",
     "output_type": "stream",
     "text": [
      ">->->  2\n"
     ]
    },
    {
     "name": "stdout",
     "output_type": "stream",
     "text": [
      "\n",
      "\n",
      "Question 20:\t\n",
      "A pasodoble is a type of Italian pasta sauce.\n",
      "Possible answers:\n",
      "1:\tFalse\n",
      "2:\tTrue\n"
     ]
    },
    {
     "name": "stdin",
     "output_type": "stream",
     "text": [
      ">->->  1\n"
     ]
    },
    {
     "name": "stdout",
     "output_type": "stream",
     "text": [
      "\n",
      "\n",
      "Your results:\n",
      "------------------------------------------------------------\n",
      "                           mixed\n",
      "question category               \n",
      "Entertainment: Books         1/1\n",
      "Entertainment: Film          1/3\n",
      "Entertainment: Music         1/1\n",
      "Entertainment: Video Games   1/2\n",
      "General Knowledge            4/7\n",
      "History                      0/2\n",
      "Science: Computers           1/1\n",
      "Science: Gadgets             0/1\n",
      "Science: Mathematics         1/1\n",
      "Sports                       0/1\n",
      "\n",
      "Total result:\t10/20\n"
     ]
    }
   ],
   "source": [
    "test_game.play()"
   ]
  },
  {
   "cell_type": "code",
   "execution_count": 62,
   "metadata": {},
   "outputs": [
    {
     "name": "stdout",
     "output_type": "stream",
     "text": [
      "Your results:\n",
      "------------------------------------------------------------\n",
      "                                      easy medium mixed\n",
      "question category                                      \n",
      "Animals                                  -    1/1     -\n",
      "Celebrities                            0/1      -     -\n",
      "Entertainment: Books                     -      -   1/1\n",
      "Entertainment: Film                      -      -   1/3\n",
      "Entertainment: Japanese Anime & Manga  1/1      -     -\n",
      "Entertainment: Music                   0/1      -   1/1\n",
      "Entertainment: Television                -    3/3     -\n",
      "Entertainment: Video Games             2/2      -   1/2\n",
      "General Knowledge                        -      -   4/7\n",
      "Geography                              1/2      -     -\n",
      "History                                1/1    1/1   0/2\n",
      "Mythology                              1/1    0/1     -\n",
      "Politics                                 -    0/1     -\n",
      "Science & Nature                       1/1      -     -\n",
      "Science: Computers                       -    1/2   1/1\n",
      "Science: Gadgets                         -      -   0/1\n",
      "Science: Mathematics                     -      -   1/1\n",
      "Sports                                   -    1/1   0/1\n",
      "\n",
      "Total result:\t24/40\n"
     ]
    },
    {
     "data": {
      "text/html": [
       "<div>\n",
       "<style scoped>\n",
       "    .dataframe tbody tr th:only-of-type {\n",
       "        vertical-align: middle;\n",
       "    }\n",
       "\n",
       "    .dataframe tbody tr th {\n",
       "        vertical-align: top;\n",
       "    }\n",
       "\n",
       "    .dataframe thead th {\n",
       "        text-align: right;\n",
       "    }\n",
       "</style>\n",
       "<table border=\"1\" class=\"dataframe\">\n",
       "  <thead>\n",
       "    <tr style=\"text-align: right;\">\n",
       "      <th></th>\n",
       "      <th>category</th>\n",
       "      <th>difficulty</th>\n",
       "      <th>player</th>\n",
       "      <th>total</th>\n",
       "      <th>correct</th>\n",
       "    </tr>\n",
       "  </thead>\n",
       "  <tbody>\n",
       "    <tr>\n",
       "      <th>0</th>\n",
       "      <td>Animals</td>\n",
       "      <td>medium</td>\n",
       "      <td>Sergei</td>\n",
       "      <td>1</td>\n",
       "      <td>1</td>\n",
       "    </tr>\n",
       "    <tr>\n",
       "      <th>1</th>\n",
       "      <td>Celebrities</td>\n",
       "      <td>easy</td>\n",
       "      <td>Sergei</td>\n",
       "      <td>1</td>\n",
       "      <td>0</td>\n",
       "    </tr>\n",
       "    <tr>\n",
       "      <th>2</th>\n",
       "      <td>Entertainment: Books</td>\n",
       "      <td>mixed</td>\n",
       "      <td>Sergei</td>\n",
       "      <td>1</td>\n",
       "      <td>1</td>\n",
       "    </tr>\n",
       "    <tr>\n",
       "      <th>3</th>\n",
       "      <td>Entertainment: Film</td>\n",
       "      <td>mixed</td>\n",
       "      <td>Sergei</td>\n",
       "      <td>3</td>\n",
       "      <td>1</td>\n",
       "    </tr>\n",
       "    <tr>\n",
       "      <th>4</th>\n",
       "      <td>Entertainment: Japanese Anime &amp; Manga</td>\n",
       "      <td>easy</td>\n",
       "      <td>Sergei</td>\n",
       "      <td>1</td>\n",
       "      <td>1</td>\n",
       "    </tr>\n",
       "    <tr>\n",
       "      <th>5</th>\n",
       "      <td>Entertainment: Music</td>\n",
       "      <td>easy</td>\n",
       "      <td>Sergei</td>\n",
       "      <td>1</td>\n",
       "      <td>0</td>\n",
       "    </tr>\n",
       "    <tr>\n",
       "      <th>6</th>\n",
       "      <td>Entertainment: Music</td>\n",
       "      <td>mixed</td>\n",
       "      <td>Sergei</td>\n",
       "      <td>1</td>\n",
       "      <td>1</td>\n",
       "    </tr>\n",
       "    <tr>\n",
       "      <th>7</th>\n",
       "      <td>Entertainment: Television</td>\n",
       "      <td>medium</td>\n",
       "      <td>Sergei</td>\n",
       "      <td>3</td>\n",
       "      <td>3</td>\n",
       "    </tr>\n",
       "    <tr>\n",
       "      <th>8</th>\n",
       "      <td>Entertainment: Video Games</td>\n",
       "      <td>easy</td>\n",
       "      <td>Sergei</td>\n",
       "      <td>2</td>\n",
       "      <td>2</td>\n",
       "    </tr>\n",
       "    <tr>\n",
       "      <th>9</th>\n",
       "      <td>Entertainment: Video Games</td>\n",
       "      <td>mixed</td>\n",
       "      <td>Sergei</td>\n",
       "      <td>2</td>\n",
       "      <td>1</td>\n",
       "    </tr>\n",
       "    <tr>\n",
       "      <th>10</th>\n",
       "      <td>General Knowledge</td>\n",
       "      <td>mixed</td>\n",
       "      <td>Sergei</td>\n",
       "      <td>7</td>\n",
       "      <td>4</td>\n",
       "    </tr>\n",
       "    <tr>\n",
       "      <th>11</th>\n",
       "      <td>Geography</td>\n",
       "      <td>easy</td>\n",
       "      <td>Sergei</td>\n",
       "      <td>2</td>\n",
       "      <td>1</td>\n",
       "    </tr>\n",
       "    <tr>\n",
       "      <th>12</th>\n",
       "      <td>History</td>\n",
       "      <td>easy</td>\n",
       "      <td>Sergei</td>\n",
       "      <td>1</td>\n",
       "      <td>1</td>\n",
       "    </tr>\n",
       "    <tr>\n",
       "      <th>13</th>\n",
       "      <td>History</td>\n",
       "      <td>medium</td>\n",
       "      <td>Sergei</td>\n",
       "      <td>1</td>\n",
       "      <td>1</td>\n",
       "    </tr>\n",
       "    <tr>\n",
       "      <th>14</th>\n",
       "      <td>History</td>\n",
       "      <td>mixed</td>\n",
       "      <td>Sergei</td>\n",
       "      <td>2</td>\n",
       "      <td>0</td>\n",
       "    </tr>\n",
       "    <tr>\n",
       "      <th>15</th>\n",
       "      <td>Mythology</td>\n",
       "      <td>easy</td>\n",
       "      <td>Sergei</td>\n",
       "      <td>1</td>\n",
       "      <td>1</td>\n",
       "    </tr>\n",
       "    <tr>\n",
       "      <th>16</th>\n",
       "      <td>Mythology</td>\n",
       "      <td>medium</td>\n",
       "      <td>Sergei</td>\n",
       "      <td>1</td>\n",
       "      <td>0</td>\n",
       "    </tr>\n",
       "    <tr>\n",
       "      <th>17</th>\n",
       "      <td>Politics</td>\n",
       "      <td>medium</td>\n",
       "      <td>Sergei</td>\n",
       "      <td>1</td>\n",
       "      <td>0</td>\n",
       "    </tr>\n",
       "    <tr>\n",
       "      <th>18</th>\n",
       "      <td>Science &amp; Nature</td>\n",
       "      <td>easy</td>\n",
       "      <td>Sergei</td>\n",
       "      <td>1</td>\n",
       "      <td>1</td>\n",
       "    </tr>\n",
       "    <tr>\n",
       "      <th>19</th>\n",
       "      <td>Science: Computers</td>\n",
       "      <td>medium</td>\n",
       "      <td>Sergei</td>\n",
       "      <td>2</td>\n",
       "      <td>1</td>\n",
       "    </tr>\n",
       "    <tr>\n",
       "      <th>20</th>\n",
       "      <td>Science: Computers</td>\n",
       "      <td>mixed</td>\n",
       "      <td>Sergei</td>\n",
       "      <td>1</td>\n",
       "      <td>1</td>\n",
       "    </tr>\n",
       "    <tr>\n",
       "      <th>21</th>\n",
       "      <td>Science: Gadgets</td>\n",
       "      <td>mixed</td>\n",
       "      <td>Sergei</td>\n",
       "      <td>1</td>\n",
       "      <td>0</td>\n",
       "    </tr>\n",
       "    <tr>\n",
       "      <th>22</th>\n",
       "      <td>Science: Mathematics</td>\n",
       "      <td>mixed</td>\n",
       "      <td>Sergei</td>\n",
       "      <td>1</td>\n",
       "      <td>1</td>\n",
       "    </tr>\n",
       "    <tr>\n",
       "      <th>23</th>\n",
       "      <td>Sports</td>\n",
       "      <td>medium</td>\n",
       "      <td>Sergei</td>\n",
       "      <td>1</td>\n",
       "      <td>1</td>\n",
       "    </tr>\n",
       "    <tr>\n",
       "      <th>24</th>\n",
       "      <td>Sports</td>\n",
       "      <td>mixed</td>\n",
       "      <td>Sergei</td>\n",
       "      <td>1</td>\n",
       "      <td>0</td>\n",
       "    </tr>\n",
       "  </tbody>\n",
       "</table>\n",
       "</div>"
      ],
      "text/plain": [
       "                                 category difficulty  player  total  correct\n",
       "0                                 Animals     medium  Sergei      1        1\n",
       "1                             Celebrities       easy  Sergei      1        0\n",
       "2                    Entertainment: Books      mixed  Sergei      1        1\n",
       "3                     Entertainment: Film      mixed  Sergei      3        1\n",
       "4   Entertainment: Japanese Anime & Manga       easy  Sergei      1        1\n",
       "5                    Entertainment: Music       easy  Sergei      1        0\n",
       "6                    Entertainment: Music      mixed  Sergei      1        1\n",
       "7               Entertainment: Television     medium  Sergei      3        3\n",
       "8              Entertainment: Video Games       easy  Sergei      2        2\n",
       "9              Entertainment: Video Games      mixed  Sergei      2        1\n",
       "10                      General Knowledge      mixed  Sergei      7        4\n",
       "11                              Geography       easy  Sergei      2        1\n",
       "12                                History       easy  Sergei      1        1\n",
       "13                                History     medium  Sergei      1        1\n",
       "14                                History      mixed  Sergei      2        0\n",
       "15                              Mythology       easy  Sergei      1        1\n",
       "16                              Mythology     medium  Sergei      1        0\n",
       "17                               Politics     medium  Sergei      1        0\n",
       "18                       Science & Nature       easy  Sergei      1        1\n",
       "19                     Science: Computers     medium  Sergei      2        1\n",
       "20                     Science: Computers      mixed  Sergei      1        1\n",
       "21                       Science: Gadgets      mixed  Sergei      1        0\n",
       "22                   Science: Mathematics      mixed  Sergei      1        1\n",
       "23                                 Sports     medium  Sergei      1        1\n",
       "24                                 Sports      mixed  Sergei      1        0"
      ]
     },
     "execution_count": 62,
     "metadata": {},
     "output_type": "execute_result"
    }
   ],
   "source": [
    "test_game.user.get_statistics(last_game=False, print_result=True, return_df=True)"
   ]
  },
  {
   "cell_type": "code",
   "execution_count": 63,
   "metadata": {},
   "outputs": [
    {
     "name": "stdout",
     "output_type": "stream",
     "text": [
      "+---------------------------------------+--------------+----------+---------+-----------+----------+\n",
      "| category                              | difficulty   | player   |   total |   correct |    ratio |\n",
      "|---------------------------------------+--------------+----------+---------+-----------+----------|\n",
      "| Sports                                | mixed        | Sergei   |       1 |         0 | 0        |\n",
      "| Sports                                | medium       | Sergei   |       1 |         1 | 1        |\n",
      "| Science: Mathematics                  | mixed        | Sergei   |       1 |         1 | 1        |\n",
      "| Science: Gadgets                      | mixed        | Sergei   |       1 |         0 | 0        |\n",
      "| Science: Computers                    | mixed        | Sergei   |       1 |         1 | 1        |\n",
      "| Science: Computers                    | medium       | Sergei   |       2 |         1 | 0.5      |\n",
      "| Science: Computers                    | easy         | Gal      |       1 |         1 | 1        |\n",
      "| Science & Nature                      | easy         | Sergei   |       1 |         1 | 1        |\n",
      "| Politics                              | medium       | Sergei   |       1 |         0 | 0        |\n",
      "| Mythology                             | medium       | Sergei   |       1 |         0 | 0        |\n",
      "| Mythology                             | easy         | Gal      |       1 |         1 | 1        |\n",
      "| Mythology                             | easy         | Sergei   |       1 |         1 | 1        |\n",
      "| History                               | mixed        | Sergei   |       2 |         0 | 0        |\n",
      "| History                               | medium       | Sergei   |       1 |         1 | 1        |\n",
      "| History                               | easy         | Sergei   |       1 |         1 | 1        |\n",
      "| Geography                             | easy         | Sergei   |       2 |         1 | 0.5      |\n",
      "| Geography                             | easy         | Gal      |       3 |         0 | 0        |\n",
      "| General Knowledge                     | mixed        | Sergei   |       7 |         4 | 0.571429 |\n",
      "| Entertainment: Video Games            | mixed        | Sergei   |       2 |         1 | 0.5      |\n",
      "| Entertainment: Video Games            | easy         | Sergei   |       2 |         2 | 1        |\n",
      "| Entertainment: Video Games            | easy         | Gal      |       2 |         1 | 0.5      |\n",
      "| Entertainment: Television             | medium       | Sergei   |       3 |         3 | 1        |\n",
      "| Entertainment: Television             | easy         | Gal      |       1 |         0 | 0        |\n",
      "| Entertainment: Music                  | mixed        | Sergei   |       1 |         1 | 1        |\n",
      "| Entertainment: Music                  | easy         | Gal      |       1 |         0 | 0        |\n",
      "| Entertainment: Music                  | easy         | Sergei   |       1 |         0 | 0        |\n",
      "| Entertainment: Japanese Anime & Manga | easy         | Sergei   |       1 |         1 | 1        |\n",
      "| Entertainment: Japanese Anime & Manga | easy         | Gal      |       1 |         0 | 0        |\n",
      "| Entertainment: Film                   | mixed        | Sergei   |       3 |         1 | 0.333333 |\n",
      "| Entertainment: Books                  | mixed        | Sergei   |       1 |         1 | 1        |\n",
      "| Celebrities                           | easy         | Sergei   |       1 |         0 | 0        |\n",
      "| Animals                               | medium       | Sergei   |       1 |         1 | 1        |\n",
      "+---------------------------------------+--------------+----------+---------+-----------+----------+\n"
     ]
    }
   ],
   "source": [
    "test_game.get_total_statistics(show_category=True ,show_difficulty=True)"
   ]
  },
  {
   "cell_type": "code",
   "execution_count": 88,
   "metadata": {},
   "outputs": [
    {
     "data": {
      "text/html": [
       "<div>\n",
       "<style scoped>\n",
       "    .dataframe tbody tr th:only-of-type {\n",
       "        vertical-align: middle;\n",
       "    }\n",
       "\n",
       "    .dataframe tbody tr th {\n",
       "        vertical-align: top;\n",
       "    }\n",
       "\n",
       "    .dataframe thead th {\n",
       "        text-align: right;\n",
       "    }\n",
       "</style>\n",
       "<table border=\"1\" class=\"dataframe\">\n",
       "  <thead>\n",
       "    <tr style=\"text-align: right;\">\n",
       "      <th></th>\n",
       "      <th>category</th>\n",
       "      <th>difficulty</th>\n",
       "      <th>player</th>\n",
       "      <th>total</th>\n",
       "      <th>correct</th>\n",
       "    </tr>\n",
       "  </thead>\n",
       "  <tbody>\n",
       "    <tr>\n",
       "      <th>0</th>\n",
       "      <td>Animals</td>\n",
       "      <td>medium</td>\n",
       "      <td>Sergei</td>\n",
       "      <td>1</td>\n",
       "      <td>1</td>\n",
       "    </tr>\n",
       "    <tr>\n",
       "      <th>1</th>\n",
       "      <td>Celebrities</td>\n",
       "      <td>easy</td>\n",
       "      <td>Sergei</td>\n",
       "      <td>1</td>\n",
       "      <td>0</td>\n",
       "    </tr>\n",
       "    <tr>\n",
       "      <th>2</th>\n",
       "      <td>Entertainment: Books</td>\n",
       "      <td>mixed</td>\n",
       "      <td>Sergei</td>\n",
       "      <td>1</td>\n",
       "      <td>1</td>\n",
       "    </tr>\n",
       "    <tr>\n",
       "      <th>3</th>\n",
       "      <td>Entertainment: Film</td>\n",
       "      <td>mixed</td>\n",
       "      <td>Sergei</td>\n",
       "      <td>3</td>\n",
       "      <td>1</td>\n",
       "    </tr>\n",
       "    <tr>\n",
       "      <th>4</th>\n",
       "      <td>Entertainment: Japanese Anime &amp; Manga</td>\n",
       "      <td>easy</td>\n",
       "      <td>Sergei</td>\n",
       "      <td>1</td>\n",
       "      <td>1</td>\n",
       "    </tr>\n",
       "    <tr>\n",
       "      <th>5</th>\n",
       "      <td>Entertainment: Music</td>\n",
       "      <td>easy</td>\n",
       "      <td>Sergei</td>\n",
       "      <td>1</td>\n",
       "      <td>0</td>\n",
       "    </tr>\n",
       "    <tr>\n",
       "      <th>6</th>\n",
       "      <td>Entertainment: Music</td>\n",
       "      <td>mixed</td>\n",
       "      <td>Sergei</td>\n",
       "      <td>1</td>\n",
       "      <td>1</td>\n",
       "    </tr>\n",
       "    <tr>\n",
       "      <th>7</th>\n",
       "      <td>Entertainment: Television</td>\n",
       "      <td>medium</td>\n",
       "      <td>Sergei</td>\n",
       "      <td>3</td>\n",
       "      <td>3</td>\n",
       "    </tr>\n",
       "    <tr>\n",
       "      <th>8</th>\n",
       "      <td>Entertainment: Video Games</td>\n",
       "      <td>easy</td>\n",
       "      <td>Sergei</td>\n",
       "      <td>2</td>\n",
       "      <td>2</td>\n",
       "    </tr>\n",
       "    <tr>\n",
       "      <th>9</th>\n",
       "      <td>Entertainment: Video Games</td>\n",
       "      <td>mixed</td>\n",
       "      <td>Sergei</td>\n",
       "      <td>2</td>\n",
       "      <td>1</td>\n",
       "    </tr>\n",
       "    <tr>\n",
       "      <th>10</th>\n",
       "      <td>General Knowledge</td>\n",
       "      <td>mixed</td>\n",
       "      <td>Sergei</td>\n",
       "      <td>7</td>\n",
       "      <td>4</td>\n",
       "    </tr>\n",
       "    <tr>\n",
       "      <th>11</th>\n",
       "      <td>Geography</td>\n",
       "      <td>easy</td>\n",
       "      <td>Sergei</td>\n",
       "      <td>2</td>\n",
       "      <td>1</td>\n",
       "    </tr>\n",
       "    <tr>\n",
       "      <th>12</th>\n",
       "      <td>History</td>\n",
       "      <td>easy</td>\n",
       "      <td>Sergei</td>\n",
       "      <td>1</td>\n",
       "      <td>1</td>\n",
       "    </tr>\n",
       "    <tr>\n",
       "      <th>13</th>\n",
       "      <td>History</td>\n",
       "      <td>medium</td>\n",
       "      <td>Sergei</td>\n",
       "      <td>1</td>\n",
       "      <td>1</td>\n",
       "    </tr>\n",
       "    <tr>\n",
       "      <th>14</th>\n",
       "      <td>History</td>\n",
       "      <td>mixed</td>\n",
       "      <td>Sergei</td>\n",
       "      <td>2</td>\n",
       "      <td>0</td>\n",
       "    </tr>\n",
       "    <tr>\n",
       "      <th>15</th>\n",
       "      <td>Mythology</td>\n",
       "      <td>easy</td>\n",
       "      <td>Sergei</td>\n",
       "      <td>1</td>\n",
       "      <td>1</td>\n",
       "    </tr>\n",
       "    <tr>\n",
       "      <th>16</th>\n",
       "      <td>Mythology</td>\n",
       "      <td>medium</td>\n",
       "      <td>Sergei</td>\n",
       "      <td>1</td>\n",
       "      <td>0</td>\n",
       "    </tr>\n",
       "    <tr>\n",
       "      <th>17</th>\n",
       "      <td>Politics</td>\n",
       "      <td>medium</td>\n",
       "      <td>Sergei</td>\n",
       "      <td>1</td>\n",
       "      <td>0</td>\n",
       "    </tr>\n",
       "    <tr>\n",
       "      <th>18</th>\n",
       "      <td>Science &amp; Nature</td>\n",
       "      <td>easy</td>\n",
       "      <td>Sergei</td>\n",
       "      <td>1</td>\n",
       "      <td>1</td>\n",
       "    </tr>\n",
       "    <tr>\n",
       "      <th>19</th>\n",
       "      <td>Science: Computers</td>\n",
       "      <td>medium</td>\n",
       "      <td>Sergei</td>\n",
       "      <td>2</td>\n",
       "      <td>1</td>\n",
       "    </tr>\n",
       "    <tr>\n",
       "      <th>20</th>\n",
       "      <td>Science: Computers</td>\n",
       "      <td>mixed</td>\n",
       "      <td>Sergei</td>\n",
       "      <td>1</td>\n",
       "      <td>1</td>\n",
       "    </tr>\n",
       "    <tr>\n",
       "      <th>21</th>\n",
       "      <td>Science: Gadgets</td>\n",
       "      <td>mixed</td>\n",
       "      <td>Sergei</td>\n",
       "      <td>1</td>\n",
       "      <td>0</td>\n",
       "    </tr>\n",
       "    <tr>\n",
       "      <th>22</th>\n",
       "      <td>Science: Mathematics</td>\n",
       "      <td>mixed</td>\n",
       "      <td>Sergei</td>\n",
       "      <td>1</td>\n",
       "      <td>1</td>\n",
       "    </tr>\n",
       "    <tr>\n",
       "      <th>23</th>\n",
       "      <td>Sports</td>\n",
       "      <td>medium</td>\n",
       "      <td>Sergei</td>\n",
       "      <td>1</td>\n",
       "      <td>1</td>\n",
       "    </tr>\n",
       "    <tr>\n",
       "      <th>24</th>\n",
       "      <td>Sports</td>\n",
       "      <td>mixed</td>\n",
       "      <td>Sergei</td>\n",
       "      <td>1</td>\n",
       "      <td>0</td>\n",
       "    </tr>\n",
       "  </tbody>\n",
       "</table>\n",
       "</div>"
      ],
      "text/plain": [
       "                                 category difficulty  player  total  correct\n",
       "0                                 Animals     medium  Sergei      1        1\n",
       "1                             Celebrities       easy  Sergei      1        0\n",
       "2                    Entertainment: Books      mixed  Sergei      1        1\n",
       "3                     Entertainment: Film      mixed  Sergei      3        1\n",
       "4   Entertainment: Japanese Anime & Manga       easy  Sergei      1        1\n",
       "5                    Entertainment: Music       easy  Sergei      1        0\n",
       "6                    Entertainment: Music      mixed  Sergei      1        1\n",
       "7               Entertainment: Television     medium  Sergei      3        3\n",
       "8              Entertainment: Video Games       easy  Sergei      2        2\n",
       "9              Entertainment: Video Games      mixed  Sergei      2        1\n",
       "10                      General Knowledge      mixed  Sergei      7        4\n",
       "11                              Geography       easy  Sergei      2        1\n",
       "12                                History       easy  Sergei      1        1\n",
       "13                                History     medium  Sergei      1        1\n",
       "14                                History      mixed  Sergei      2        0\n",
       "15                              Mythology       easy  Sergei      1        1\n",
       "16                              Mythology     medium  Sergei      1        0\n",
       "17                               Politics     medium  Sergei      1        0\n",
       "18                       Science & Nature       easy  Sergei      1        1\n",
       "19                     Science: Computers     medium  Sergei      2        1\n",
       "20                     Science: Computers      mixed  Sergei      1        1\n",
       "21                       Science: Gadgets      mixed  Sergei      1        0\n",
       "22                   Science: Mathematics      mixed  Sergei      1        1\n",
       "23                                 Sports     medium  Sergei      1        1\n",
       "24                                 Sports      mixed  Sergei      1        0"
      ]
     },
     "execution_count": 88,
     "metadata": {},
     "output_type": "execute_result"
    }
   ],
   "source": [
    "tot_stat=test_game.user.get_statistics(last_game=False, print_result=False, return_df=True)\n",
    "tot_stat"
   ]
  },
  {
   "cell_type": "code",
   "execution_count": 89,
   "metadata": {
    "collapsed": false,
    "jupyter": {
     "outputs_hidden": false
    },
    "pycharm": {
     "name": "#%%\n"
    }
   },
   "outputs": [
    {
     "data": {
      "text/html": [
       "<div>\n",
       "<style scoped>\n",
       "    .dataframe tbody tr th:only-of-type {\n",
       "        vertical-align: middle;\n",
       "    }\n",
       "\n",
       "    .dataframe tbody tr th {\n",
       "        vertical-align: top;\n",
       "    }\n",
       "\n",
       "    .dataframe thead th {\n",
       "        text-align: right;\n",
       "    }\n",
       "</style>\n",
       "<table border=\"1\" class=\"dataframe\">\n",
       "  <thead>\n",
       "    <tr style=\"text-align: right;\">\n",
       "      <th></th>\n",
       "      <th>category</th>\n",
       "      <th>difficulty</th>\n",
       "      <th>player</th>\n",
       "      <th>total</th>\n",
       "      <th>correct</th>\n",
       "      <th>wrong</th>\n",
       "    </tr>\n",
       "  </thead>\n",
       "  <tbody>\n",
       "    <tr>\n",
       "      <th>0</th>\n",
       "      <td>Animals</td>\n",
       "      <td>medium</td>\n",
       "      <td>Sergei</td>\n",
       "      <td>1</td>\n",
       "      <td>1</td>\n",
       "      <td>0</td>\n",
       "    </tr>\n",
       "    <tr>\n",
       "      <th>1</th>\n",
       "      <td>Celebrities</td>\n",
       "      <td>easy</td>\n",
       "      <td>Sergei</td>\n",
       "      <td>1</td>\n",
       "      <td>0</td>\n",
       "      <td>0</td>\n",
       "    </tr>\n",
       "    <tr>\n",
       "      <th>2</th>\n",
       "      <td>Entertainment: Books</td>\n",
       "      <td>mixed</td>\n",
       "      <td>Sergei</td>\n",
       "      <td>1</td>\n",
       "      <td>1</td>\n",
       "      <td>0</td>\n",
       "    </tr>\n",
       "    <tr>\n",
       "      <th>3</th>\n",
       "      <td>Entertainment: Film</td>\n",
       "      <td>mixed</td>\n",
       "      <td>Sergei</td>\n",
       "      <td>3</td>\n",
       "      <td>1</td>\n",
       "      <td>0</td>\n",
       "    </tr>\n",
       "    <tr>\n",
       "      <th>4</th>\n",
       "      <td>Entertainment: Japanese Anime &amp; Manga</td>\n",
       "      <td>easy</td>\n",
       "      <td>Sergei</td>\n",
       "      <td>1</td>\n",
       "      <td>1</td>\n",
       "      <td>0</td>\n",
       "    </tr>\n",
       "    <tr>\n",
       "      <th>5</th>\n",
       "      <td>Entertainment: Music</td>\n",
       "      <td>easy</td>\n",
       "      <td>Sergei</td>\n",
       "      <td>1</td>\n",
       "      <td>0</td>\n",
       "      <td>0</td>\n",
       "    </tr>\n",
       "    <tr>\n",
       "      <th>6</th>\n",
       "      <td>Entertainment: Music</td>\n",
       "      <td>mixed</td>\n",
       "      <td>Sergei</td>\n",
       "      <td>1</td>\n",
       "      <td>1</td>\n",
       "      <td>0</td>\n",
       "    </tr>\n",
       "    <tr>\n",
       "      <th>7</th>\n",
       "      <td>Entertainment: Television</td>\n",
       "      <td>medium</td>\n",
       "      <td>Sergei</td>\n",
       "      <td>3</td>\n",
       "      <td>3</td>\n",
       "      <td>0</td>\n",
       "    </tr>\n",
       "    <tr>\n",
       "      <th>8</th>\n",
       "      <td>Entertainment: Video Games</td>\n",
       "      <td>easy</td>\n",
       "      <td>Sergei</td>\n",
       "      <td>2</td>\n",
       "      <td>2</td>\n",
       "      <td>0</td>\n",
       "    </tr>\n",
       "    <tr>\n",
       "      <th>9</th>\n",
       "      <td>Entertainment: Video Games</td>\n",
       "      <td>mixed</td>\n",
       "      <td>Sergei</td>\n",
       "      <td>2</td>\n",
       "      <td>1</td>\n",
       "      <td>0</td>\n",
       "    </tr>\n",
       "    <tr>\n",
       "      <th>10</th>\n",
       "      <td>General Knowledge</td>\n",
       "      <td>mixed</td>\n",
       "      <td>Sergei</td>\n",
       "      <td>7</td>\n",
       "      <td>4</td>\n",
       "      <td>0</td>\n",
       "    </tr>\n",
       "    <tr>\n",
       "      <th>11</th>\n",
       "      <td>Geography</td>\n",
       "      <td>easy</td>\n",
       "      <td>Sergei</td>\n",
       "      <td>2</td>\n",
       "      <td>1</td>\n",
       "      <td>0</td>\n",
       "    </tr>\n",
       "    <tr>\n",
       "      <th>12</th>\n",
       "      <td>History</td>\n",
       "      <td>easy</td>\n",
       "      <td>Sergei</td>\n",
       "      <td>1</td>\n",
       "      <td>1</td>\n",
       "      <td>0</td>\n",
       "    </tr>\n",
       "    <tr>\n",
       "      <th>13</th>\n",
       "      <td>History</td>\n",
       "      <td>medium</td>\n",
       "      <td>Sergei</td>\n",
       "      <td>1</td>\n",
       "      <td>1</td>\n",
       "      <td>0</td>\n",
       "    </tr>\n",
       "    <tr>\n",
       "      <th>14</th>\n",
       "      <td>History</td>\n",
       "      <td>mixed</td>\n",
       "      <td>Sergei</td>\n",
       "      <td>2</td>\n",
       "      <td>0</td>\n",
       "      <td>0</td>\n",
       "    </tr>\n",
       "    <tr>\n",
       "      <th>15</th>\n",
       "      <td>Mythology</td>\n",
       "      <td>easy</td>\n",
       "      <td>Sergei</td>\n",
       "      <td>1</td>\n",
       "      <td>1</td>\n",
       "      <td>0</td>\n",
       "    </tr>\n",
       "    <tr>\n",
       "      <th>16</th>\n",
       "      <td>Mythology</td>\n",
       "      <td>medium</td>\n",
       "      <td>Sergei</td>\n",
       "      <td>1</td>\n",
       "      <td>0</td>\n",
       "      <td>0</td>\n",
       "    </tr>\n",
       "    <tr>\n",
       "      <th>17</th>\n",
       "      <td>Politics</td>\n",
       "      <td>medium</td>\n",
       "      <td>Sergei</td>\n",
       "      <td>1</td>\n",
       "      <td>0</td>\n",
       "      <td>0</td>\n",
       "    </tr>\n",
       "    <tr>\n",
       "      <th>18</th>\n",
       "      <td>Science &amp; Nature</td>\n",
       "      <td>easy</td>\n",
       "      <td>Sergei</td>\n",
       "      <td>1</td>\n",
       "      <td>1</td>\n",
       "      <td>0</td>\n",
       "    </tr>\n",
       "    <tr>\n",
       "      <th>19</th>\n",
       "      <td>Science: Computers</td>\n",
       "      <td>medium</td>\n",
       "      <td>Sergei</td>\n",
       "      <td>2</td>\n",
       "      <td>1</td>\n",
       "      <td>0</td>\n",
       "    </tr>\n",
       "    <tr>\n",
       "      <th>20</th>\n",
       "      <td>Science: Computers</td>\n",
       "      <td>mixed</td>\n",
       "      <td>Sergei</td>\n",
       "      <td>1</td>\n",
       "      <td>1</td>\n",
       "      <td>0</td>\n",
       "    </tr>\n",
       "    <tr>\n",
       "      <th>21</th>\n",
       "      <td>Science: Gadgets</td>\n",
       "      <td>mixed</td>\n",
       "      <td>Sergei</td>\n",
       "      <td>1</td>\n",
       "      <td>0</td>\n",
       "      <td>0</td>\n",
       "    </tr>\n",
       "    <tr>\n",
       "      <th>22</th>\n",
       "      <td>Science: Mathematics</td>\n",
       "      <td>mixed</td>\n",
       "      <td>Sergei</td>\n",
       "      <td>1</td>\n",
       "      <td>1</td>\n",
       "      <td>0</td>\n",
       "    </tr>\n",
       "    <tr>\n",
       "      <th>23</th>\n",
       "      <td>Sports</td>\n",
       "      <td>medium</td>\n",
       "      <td>Sergei</td>\n",
       "      <td>1</td>\n",
       "      <td>1</td>\n",
       "      <td>0</td>\n",
       "    </tr>\n",
       "    <tr>\n",
       "      <th>24</th>\n",
       "      <td>Sports</td>\n",
       "      <td>mixed</td>\n",
       "      <td>Sergei</td>\n",
       "      <td>1</td>\n",
       "      <td>0</td>\n",
       "      <td>0</td>\n",
       "    </tr>\n",
       "  </tbody>\n",
       "</table>\n",
       "</div>"
      ],
      "text/plain": [
       "                                 category difficulty  player  total  correct  \\\n",
       "0                                 Animals     medium  Sergei      1        1   \n",
       "1                             Celebrities       easy  Sergei      1        0   \n",
       "2                    Entertainment: Books      mixed  Sergei      1        1   \n",
       "3                     Entertainment: Film      mixed  Sergei      3        1   \n",
       "4   Entertainment: Japanese Anime & Manga       easy  Sergei      1        1   \n",
       "5                    Entertainment: Music       easy  Sergei      1        0   \n",
       "6                    Entertainment: Music      mixed  Sergei      1        1   \n",
       "7               Entertainment: Television     medium  Sergei      3        3   \n",
       "8              Entertainment: Video Games       easy  Sergei      2        2   \n",
       "9              Entertainment: Video Games      mixed  Sergei      2        1   \n",
       "10                      General Knowledge      mixed  Sergei      7        4   \n",
       "11                              Geography       easy  Sergei      2        1   \n",
       "12                                History       easy  Sergei      1        1   \n",
       "13                                History     medium  Sergei      1        1   \n",
       "14                                History      mixed  Sergei      2        0   \n",
       "15                              Mythology       easy  Sergei      1        1   \n",
       "16                              Mythology     medium  Sergei      1        0   \n",
       "17                               Politics     medium  Sergei      1        0   \n",
       "18                       Science & Nature       easy  Sergei      1        1   \n",
       "19                     Science: Computers     medium  Sergei      2        1   \n",
       "20                     Science: Computers      mixed  Sergei      1        1   \n",
       "21                       Science: Gadgets      mixed  Sergei      1        0   \n",
       "22                   Science: Mathematics      mixed  Sergei      1        1   \n",
       "23                                 Sports     medium  Sergei      1        1   \n",
       "24                                 Sports      mixed  Sergei      1        0   \n",
       "\n",
       "    wrong  \n",
       "0       0  \n",
       "1       0  \n",
       "2       0  \n",
       "3       0  \n",
       "4       0  \n",
       "5       0  \n",
       "6       0  \n",
       "7       0  \n",
       "8       0  \n",
       "9       0  \n",
       "10      0  \n",
       "11      0  \n",
       "12      0  \n",
       "13      0  \n",
       "14      0  \n",
       "15      0  \n",
       "16      0  \n",
       "17      0  \n",
       "18      0  \n",
       "19      0  \n",
       "20      0  \n",
       "21      0  \n",
       "22      0  \n",
       "23      0  \n",
       "24      0  "
      ]
     },
     "execution_count": 89,
     "metadata": {},
     "output_type": "execute_result"
    }
   ],
   "source": [
    "tot_stat.insert(5, 'wrong', 0)\n",
    "tot_stat"
   ]
  },
  {
   "cell_type": "code",
   "execution_count": 90,
   "metadata": {
    "collapsed": false,
    "jupyter": {
     "outputs_hidden": false
    },
    "pycharm": {
     "name": "#%%\n"
    }
   },
   "outputs": [],
   "source": [
    "tot_stat['wrong'] = tot_stat.total - tot_stat.correct"
   ]
  },
  {
   "cell_type": "code",
   "execution_count": 91,
   "metadata": {},
   "outputs": [],
   "source": [
    "tot_stat['ratio'] = tot_stat.correct / tot_stat.total"
   ]
  },
  {
   "cell_type": "code",
   "execution_count": 110,
   "metadata": {
    "collapsed": false,
    "jupyter": {
     "outputs_hidden": false
    },
    "pycharm": {
     "name": "#%%\n"
    }
   },
   "outputs": [],
   "source": [
    "tot_stat = tot_stat.sort_values(by=['total', 'ratio'], ascending=[False, False])"
   ]
  },
  {
   "cell_type": "code",
   "execution_count": 93,
   "metadata": {},
   "outputs": [],
   "source": [
    "import matplotlib.pyplot as plt\n",
    "import numpy as np"
   ]
  },
  {
   "cell_type": "code",
   "execution_count": 119,
   "metadata": {},
   "outputs": [
    {
     "data": {
      "image/png": "[encoded data removed]",
      "text/plain": [
       "<Figure size 864x864 with 2 Axes>"
      ]
     },
     "metadata": {
      "needs_background": "light"
     },
     "output_type": "display_data"
    }
   ],
   "source": [
    "pos = np.arange(tot_stat.shape[0])\n",
    "fig_hight = int(tot_stat.shape[0] / 2)\n",
    "\n",
    "fig = plt.figure(figsize=(12,fig_hight))\n",
    "grid = plt.GridSpec(nrows=1, ncols=3, figure=fig, wspace=0.0)\n",
    "ax_left = fig.add_subplot(grid[0,0])\n",
    "ax_left.barh(pos, tot_stat.ratio, align='center', height=0.7, color='steelblue', alpha=0.7, tick_label=tot_stat.category + ' (' + tot_stat.difficulty + ')')\n",
    "ax_left.set(xlim =(1.1, 0), ylim=(-0.5, pos.max() + 0.5))\n",
    "\n",
    "ax_right = fig.add_subplot(grid[0,1:])\n",
    "ax_right.barh(pos, tot_stat.correct, align='center', height=.7, color='teal',label='correct answers')\n",
    "ax_right.barh(pos, tot_stat.wrong, align='center', height=.7, left=tot_stat.correct, color='maroon',label='wrong answers')\n",
    "ax_right.set_yticklabels([])\n",
    "ax_right.set(xlim=(0, tot_stat.total.max() + 1), ylim=(-0.5, pos.max() + 0.5), yticks=[], xticks=(np.arange(1, tot_stat.total.max() + 1)))\n",
    "\n",
    "# for mark in pos + 0.5:\n",
    "#     ax_left.axhline(mark, color='black', alpha=0.3, linewidth=0.5)\n",
    "#     ax_right.axhline(mark, color='black', alpha=0.3, linewidth=0.5)\n",
    "\n",
    "plt.show()"
   ]
  },
  {
   "cell_type": "code",
   "execution_count": null,
   "metadata": {
    "pycharm": {
     "name": "#%%\n"
    }
   },
   "outputs": [],
   "source": []
  }
 ],
 "metadata": {
  "kernelspec": {
   "display_name": "Python 3",
   "language": "python",
   "name": "python3"
  },
  "language_info": {
   "codemirror_mode": {
    "name": "ipython",
    "version": 3
   },
   "file_extension": ".py",
   "mimetype": "text/x-python",
   "name": "python",
   "nbconvert_exporter": "python",
   "pygments_lexer": "ipython3",
   "version": "3.7.4"
  },
  "pycharm": {
   "stem_cell": {
    "cell_type": "raw",
    "source": [],
    "metadata": {
     "collapsed": false
    }
   }
  }
 },
 "nbformat": 4,
 "nbformat_minor": 4
}